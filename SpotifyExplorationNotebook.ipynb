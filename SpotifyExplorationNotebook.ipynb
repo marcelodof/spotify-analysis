{
 "cells": [
  {
   "cell_type": "markdown",
   "metadata": {},
   "source": [
    "# Configuration"
   ]
  },
  {
   "cell_type": "code",
   "execution_count": 22,
   "metadata": {},
   "outputs": [],
   "source": [
    "import os\n",
    "import pandas as pd\n",
    "#import seaborn            as sns\n",
    "import spotipy\n",
    "import spotipy.oauth2     as oauth2\n",
    "\n",
    "from pprint import pprint\n",
    "import csv\n",
    "import os\n",
    "\n",
    "\n",
    "from matplotlib           import pyplot as plt \n",
    "from IPython.core.display import display, HTML"
   ]
  },
  {
   "cell_type": "code",
   "execution_count": 19,
   "metadata": {},
   "outputs": [
    {
     "data": {
      "text/html": [
       "<style>.container { width:95% !important; }</style>"
      ],
      "text/plain": [
       "<IPython.core.display.HTML object>"
      ]
     },
     "metadata": {},
     "output_type": "display_data"
    }
   ],
   "source": [
    "# -------------------------------------------\n",
    "# Jupyter notebook Settings\n",
    "# -------------------------------------------\n",
    "display( HTML( '<style>.container { width:95% !important; }</style>' ) )\n",
    "pd.options.display.max_columns = None\n",
    "pd.options.display.max_rows = None\n",
    "pd.set_option( 'display.expand_frame_repr', False )\n",
    "\n",
    "# -------------------------------------------\n",
    "# Plotting Settings\n",
    "# -------------------------------------------\n",
    "plt.rcParams['figure.figsize'] = [10,10]\n",
    "plt.rcParams['font.size'] = 24\n",
    "#sns.set()\n",
    "#sns.set_style(\"whitegrid\")\n",
    "#sns.despine(right = True)\n",
    "pd.options.display.float_format = '{:.2f}'.format"
   ]
  },
  {
   "cell_type": "code",
   "execution_count": 20,
   "metadata": {},
   "outputs": [],
   "source": [
    "# Getting env variables\n",
    "CLI_ID = %env CLI_ID\n",
    "CLI_KEY = %env CLI_KEY"
   ]
  },
  {
   "cell_type": "code",
   "execution_count": 21,
   "metadata": {},
   "outputs": [
    {
     "name": "stdout",
     "output_type": "stream",
     "text": [
      "\n",
      "\n"
     ]
    },
    {
     "name": "stderr",
     "output_type": "stream",
     "text": [
      "/mnt/c/Users/Marcelo/Documents/Repos/spotify-analysis/.env/lib/python3.6/site-packages/ipykernel_launcher.py:7: DeprecationWarning: You're using 'as_dict = True'.get_access_token will return the token string directly in future versions. Please adjust your code accordingly, or use get_cached_token instead.\n",
      "  import sys\n"
     ]
    }
   ],
   "source": [
    "# ---------------------------------------------\n",
    "# Spotify Settings \n",
    "# ---------------------------------------------\n",
    "credentials = oauth2.SpotifyClientCredentials(\n",
    "    client_id = CLI_ID, \n",
    "    client_secret = CLI_KEY)\n",
    "token = credentials.get_access_token()\n",
    "spotify = spotipy.Spotify(auth=token)"
   ]
  },
  {
   "cell_type": "markdown",
   "metadata": {},
   "source": [
    "# Getting Spotify Data"
   ]
  },
  {
   "cell_type": "code",
   "execution_count": 29,
   "metadata": {},
   "outputs": [
    {
     "ename": "ValueError",
     "evalue": "Single '}' encountered in format string",
     "output_type": "error",
     "traceback": [
      "\u001b[0;31m---------------------------------------------------------------------------\u001b[0m",
      "\u001b[0;31mValueError\u001b[0m                                Traceback (most recent call last)",
      "\u001b[0;32m<ipython-input-29-7d5b1c95b65f>\u001b[0m in \u001b[0;36m<module>\u001b[0;34m\u001b[0m\n\u001b[1;32m     62\u001b[0m         \u001b[0;32mreturn\u001b[0m\u001b[0;34m\u001b[0m\u001b[0;34m\u001b[0m\u001b[0m\n\u001b[1;32m     63\u001b[0m \u001b[0;34m\u001b[0m\u001b[0m\n\u001b[0;32m---> 64\u001b[0;31m \u001b[0mwrite_playlist\u001b[0m\u001b[0;34m(\u001b[0m\u001b[0;34m'marcelodof'\u001b[0m\u001b[0;34m,\u001b[0m \u001b[0;34m'1BPIL9bSFtWI6SrSxGdWPn'\u001b[0m\u001b[0;34m)\u001b[0m\u001b[0;34m\u001b[0m\u001b[0;34m\u001b[0m\u001b[0m\n\u001b[0m",
      "\u001b[0;32m<ipython-input-29-7d5b1c95b65f>\u001b[0m in \u001b[0;36mwrite_playlist\u001b[0;34m(username, uri)\u001b[0m\n\u001b[1;32m     13\u001b[0m     \u001b[0mtracks\u001b[0m \u001b[0;34m=\u001b[0m \u001b[0mplaylist_info\u001b[0m\u001b[0;34m[\u001b[0m\u001b[0;34m'tracks'\u001b[0m\u001b[0;34m]\u001b[0m\u001b[0;34m\u001b[0m\u001b[0;34m\u001b[0m\u001b[0m\n\u001b[1;32m     14\u001b[0m     \u001b[0mfilename\u001b[0m \u001b[0;34m=\u001b[0m \u001b[0;34m\"{0}.csv\"\u001b[0m\u001b[0;34m.\u001b[0m\u001b[0mformat\u001b[0m\u001b[0;34m(\u001b[0m\u001b[0mplaylist_info\u001b[0m\u001b[0;34m[\u001b[0m\u001b[0;34m'name'\u001b[0m\u001b[0;34m]\u001b[0m\u001b[0;34m)\u001b[0m\u001b[0;34m\u001b[0m\u001b[0;34m\u001b[0m\u001b[0m\n\u001b[0;32m---> 15\u001b[0;31m     \u001b[0mold_total\u001b[0m \u001b[0;34m=\u001b[0m \u001b[0mwrite_csv\u001b[0m\u001b[0;34m(\u001b[0m\u001b[0mfilename\u001b[0m\u001b[0;34m,\u001b[0m \u001b[0mtracks\u001b[0m\u001b[0;34m)\u001b[0m\u001b[0;34m\u001b[0m\u001b[0;34m\u001b[0m\u001b[0m\n\u001b[0m\u001b[1;32m     16\u001b[0m     \u001b[0mprint\u001b[0m\u001b[0;34m(\u001b[0m\u001b[0;34m\"Number of tracks = {} --> {} \"\u001b[0m\u001b[0;34m.\u001b[0m\u001b[0mformat\u001b[0m\u001b[0;34m(\u001b[0m\u001b[0mold_total\u001b[0m\u001b[0;34m,\u001b[0m \u001b[0mtracks\u001b[0m\u001b[0;34m[\u001b[0m\u001b[0;34m'total'\u001b[0m\u001b[0;34m]\u001b[0m\u001b[0;34m)\u001b[0m\u001b[0;34m)\u001b[0m\u001b[0;34m\u001b[0m\u001b[0;34m\u001b[0m\u001b[0m\n\u001b[1;32m     17\u001b[0m \u001b[0;34m\u001b[0m\u001b[0m\n",
      "\u001b[0;32m<ipython-input-29-7d5b1c95b65f>\u001b[0m in \u001b[0;36mwrite_csv\u001b[0;34m(filename, tracks)\u001b[0m\n\u001b[1;32m     26\u001b[0m         \u001b[0mExceptions\u001b[0m \u001b[0mhandle\u001b[0m \u001b[0mthe\u001b[0m \u001b[0mcases\u001b[0m \u001b[0mwhere\u001b[0m \u001b[0mthe\u001b[0m \u001b[0mcharacters\u001b[0m \u001b[0;32min\u001b[0m \u001b[0mthe\u001b[0m \u001b[0mtrack\u001b[0m \u001b[0minfo\u001b[0m \u001b[0mcannot\u001b[0m \u001b[0mbe\u001b[0m \u001b[0munderstood\u001b[0m \u001b[0mby\u001b[0m \u001b[0mthe\u001b[0m \u001b[0msystem\u001b[0m \u001b[0;32mand\u001b[0m \u001b[0mwhere\u001b[0m \u001b[0mthe\u001b[0m \u001b[0mkey\u001b[0m \u001b[0;32mis\u001b[0m \u001b[0minvalid\u001b[0m \u001b[0;34m(\u001b[0m\u001b[0musually\u001b[0m \u001b[0mdue\u001b[0m \u001b[0mto\u001b[0m \u001b[0mlocal\u001b[0m \u001b[0mfiles\u001b[0m \u001b[0;32min\u001b[0m \u001b[0mthe\u001b[0m \u001b[0mplaylist\u001b[0m\u001b[0;34m)\u001b[0m\u001b[0;34m.\u001b[0m\u001b[0;34m\u001b[0m\u001b[0;34m\u001b[0m\u001b[0m\n\u001b[1;32m     27\u001b[0m \t'''\n\u001b[0;32m---> 28\u001b[0;31m         \u001b[0mfilepath\u001b[0m \u001b[0;34m=\u001b[0m \u001b[0;34m\"./{0}}\"\u001b[0m\u001b[0;34m.\u001b[0m\u001b[0mformat\u001b[0m\u001b[0;34m(\u001b[0m\u001b[0mfilename\u001b[0m\u001b[0;34m)\u001b[0m\u001b[0;34m\u001b[0m\u001b[0;34m\u001b[0m\u001b[0m\n\u001b[0m\u001b[1;32m     29\u001b[0m         \u001b[0mtracklist\u001b[0m \u001b[0;34m=\u001b[0m \u001b[0;34m[\u001b[0m\u001b[0;34m]\u001b[0m\u001b[0;34m\u001b[0m\u001b[0;34m\u001b[0m\u001b[0m\n\u001b[1;32m     30\u001b[0m         \u001b[0mtracklist\u001b[0m\u001b[0;34m.\u001b[0m\u001b[0mappend\u001b[0m\u001b[0;34m(\u001b[0m\u001b[0mcsv_headers\u001b[0m\u001b[0;34m)\u001b[0m\u001b[0;34m\u001b[0m\u001b[0;34m\u001b[0m\u001b[0m\n",
      "\u001b[0;31mValueError\u001b[0m: Single '}' encountered in format string"
     ]
    }
   ],
   "source": [
    "# header row for csv file \n",
    "csv_headers = [\"url\", \"name\", \"artist\", \"explicit\", \"popularity\", \"duration_ms\"]\n",
    "# whether you want to overwrite existing files or not\n",
    "OVERWRITE = True\n",
    "\n",
    "def write_playlist(username, uri):\n",
    "    '''\n",
    "    Query the spotify API and receive the playlist information. If mode is 'nan' you can view this information data structure in its raw form.\n",
    "    Obtain the list of tracks from the playlist information data structure and write it to a txt or csv file.\n",
    "    Select a random song from the list of tracks and print general information to the console. \n",
    "    '''\n",
    "    playlist_info = spotify.user_playlist(username, uri) \t\t\t\t\t\t#, fields='tracks,next,name'\n",
    "    tracks = playlist_info['tracks']\n",
    "    filename = \"{0}.csv\".format(playlist_info['name'])\n",
    "    old_total = write_csv(filename, tracks)\n",
    "    print(\"Number of tracks = {} --> {} \".format(old_total, tracks['total']))\n",
    "\n",
    "def write_csv(filename, tracks):\n",
    "\t'''\n",
    "\tADD TO CSV FILE\n",
    "\tView the playlist information data structure if this is confusing! \n",
    "\tSpecify the destination file path and check if the file exists already. If the file exists and you selected to not overwrite, the program will end here.\n",
    "\tTraverse the tracks data structure and add whatever information you want to store to a python list. These are the rows for your csv file\n",
    "\tAppend all of these lists to a main python list which will store all the rows for your csv file.\n",
    "\tWrite the data to the csv file!\n",
    "\tExceptions handle the cases where the characters in the track info cannot be understood by the system and where the key is invalid (usually due to local files in the playlist).\n",
    "\t'''\n",
    "\tfilepath = \"./{0}}\".format(filename)\n",
    "\ttracklist = []\n",
    "\ttracklist.append(csv_headers)\n",
    "\tif os.path.isfile(filepath):\n",
    "\t\tprint(\"File already exists!\")\n",
    "\t\tif not OVERWRITE:\n",
    "\t\t\treturn\n",
    "\t\telse:\n",
    "\t\t\tprint(\"Rewriting...\")\n",
    "\twhile True:\n",
    "\t\tfor item in tracks['items']:\n",
    "\t\t\tif 'track' in item:\n",
    "\t\t\t\ttrack = item['track']\n",
    "\t\t\telse:\n",
    "\t\t\t\ttrack = item\n",
    "\t\t\ttry:\n",
    "\t\t\t\ttrack_url = track['external_urls']['spotify']\n",
    "\t\t\t\t# add to list of lists\n",
    "\t\t\t\ttrack_info = [track_url, track['name'], track['artists'][0]['name'], track['explicit'], track['popularity'], track['duration_ms']]\n",
    "\t\t\t\ttracklist.append(track_info)\n",
    "\t\t\texcept KeyError:\n",
    "\t\t\t\tprint(\"Skipping track (LOCAL ONLY) - {0} by {1}\".format(track['name'], track['artists'][0]['name']))\n",
    "\t\tif tracks['next']:\n",
    "\t\t\ttracks = spotify.next(tracks)\n",
    "\t\telse:\n",
    "\t\t\tbreak\n",
    "\twith open(filepath, 'w', newline='') as file:\n",
    "\t\ttry:\n",
    "\t\t\twriter = csv.writer(file)\n",
    "\t\t\twriter.writerows(tracklist)\n",
    "\t\texcept UnicodeEncodeError:\n",
    "\t\t\tprint(\"Skipping track (UNDEFINED CHARACTERS) - {0} by {1}\".format(track['name'], track['artists'][0]['name']))\n",
    "\tprint(\"Playlist written to file.\", end=\"\\n\\n\")\n",
    "\tprint(\"-----\\t\\t\\t-----\\t\\t\\t-----\\n\")\n",
    "\treturn\n",
    "\n",
    "write_playlist('marcelodof', '1BPIL9bSFtWI6SrSxGdWPn')"
   ]
  }
 ],
 "metadata": {
  "kernelspec": {
   "display_name": "Python 3",
   "language": "python",
   "name": "python3"
  },
  "language_info": {
   "codemirror_mode": {
    "name": "ipython",
    "version": 3
   },
   "file_extension": ".py",
   "mimetype": "text/x-python",
   "name": "python",
   "nbconvert_exporter": "python",
   "pygments_lexer": "ipython3",
   "version": "3.6.9"
  }
 },
 "nbformat": 4,
 "nbformat_minor": 4
}
