{
 "cells": [
  {
   "cell_type": "markdown",
   "metadata": {},
   "source": [
    "# Configuration"
   ]
  },
  {
   "cell_type": "code",
   "execution_count": 2,
   "metadata": {},
   "outputs": [],
   "source": [
    "import os\n",
    "import pandas as pd\n",
    "#import seaborn            as sns\n",
    "import spotipy\n",
    "import spotipy.oauth2     as oauth2\n",
    "\n",
    "from pprint import pprint\n",
    "import csv\n",
    "import os\n",
    "\n",
    "\n",
    "from matplotlib           import pyplot as plt \n",
    "from IPython.core.display import display, HTML"
   ]
  },
  {
   "cell_type": "code",
   "execution_count": 3,
   "metadata": {},
   "outputs": [
    {
     "data": {
      "text/html": [
       "<style>.container { width:95% !important; }</style>"
      ],
      "text/plain": [
       "<IPython.core.display.HTML object>"
      ]
     },
     "metadata": {},
     "output_type": "display_data"
    }
   ],
   "source": [
    "# -------------------------------------------\n",
    "# Jupyter notebook Settings\n",
    "# -------------------------------------------\n",
    "display( HTML( '<style>.container { width:95% !important; }</style>' ) )\n",
    "pd.options.display.max_columns = None\n",
    "pd.options.display.max_rows = None\n",
    "pd.set_option( 'display.expand_frame_repr', False )\n",
    "\n",
    "# -------------------------------------------\n",
    "# Plotting Settings\n",
    "# -------------------------------------------\n",
    "plt.rcParams['figure.figsize'] = [10,10]\n",
    "plt.rcParams['font.size'] = 24\n",
    "#sns.set()\n",
    "#sns.set_style(\"whitegrid\")\n",
    "#sns.despine(right = True)\n",
    "pd.options.display.float_format = '{:.2f}'.format"
   ]
  },
  {
   "cell_type": "code",
   "execution_count": 4,
   "metadata": {},
   "outputs": [
    {
     "name": "stderr",
     "output_type": "stream",
     "text": [
      "UsageError: Environment does not have key: CLI_ID\n"
     ]
    }
   ],
   "source": [
    "# Getting env variables\n",
    "CLI_ID = %env CLI_ID\n",
    "CLI_KEY = %env CLI_KEY"
   ]
  },
  {
   "cell_type": "code",
   "execution_count": 5,
   "metadata": {},
   "outputs": [
    {
     "ename": "NameError",
     "evalue": "name 'CLI_ID' is not defined",
     "output_type": "error",
     "traceback": [
      "\u001b[0;31m---------------------------------------------------------------------------\u001b[0m",
      "\u001b[0;31mNameError\u001b[0m                                 Traceback (most recent call last)",
      "\u001b[0;32m<ipython-input-5-b8aacbee87da>\u001b[0m in \u001b[0;36m<module>\u001b[0;34m\u001b[0m\n\u001b[1;32m      3\u001b[0m \u001b[0;31m# ---------------------------------------------\u001b[0m\u001b[0;34m\u001b[0m\u001b[0;34m\u001b[0m\u001b[0;34m\u001b[0m\u001b[0m\n\u001b[1;32m      4\u001b[0m credentials = oauth2.SpotifyClientCredentials(\n\u001b[0;32m----> 5\u001b[0;31m     \u001b[0mclient_id\u001b[0m \u001b[0;34m=\u001b[0m \u001b[0mCLI_ID\u001b[0m\u001b[0;34m,\u001b[0m\u001b[0;34m\u001b[0m\u001b[0;34m\u001b[0m\u001b[0m\n\u001b[0m\u001b[1;32m      6\u001b[0m     client_secret = CLI_KEY)\n\u001b[1;32m      7\u001b[0m \u001b[0mtoken\u001b[0m \u001b[0;34m=\u001b[0m \u001b[0mcredentials\u001b[0m\u001b[0;34m.\u001b[0m\u001b[0mget_access_token\u001b[0m\u001b[0;34m(\u001b[0m\u001b[0;34m)\u001b[0m\u001b[0;34m\u001b[0m\u001b[0;34m\u001b[0m\u001b[0m\n",
      "\u001b[0;31mNameError\u001b[0m: name 'CLI_ID' is not defined"
     ]
    }
   ],
   "source": [
    "# ---------------------------------------------\n",
    "# Spotify Settings \n",
    "# ---------------------------------------------\n",
    "credentials = oauth2.SpotifyClientCredentials(\n",
    "    client_id = CLI_ID, \n",
    "    client_secret = CLI_KEY)\n",
    "token = credentials.get_access_token()\n",
    "spotify = spotipy.Spotify(auth=token)"
   ]
  },
  {
   "cell_type": "markdown",
   "metadata": {},
   "source": [
    "# Getting Spotify Data"
   ]
  },
  {
   "cell_type": "code",
   "execution_count": 8,
   "metadata": {},
   "outputs": [
    {
     "data": {
      "text/html": [
       "<div>\n",
       "<style scoped>\n",
       "    .dataframe tbody tr th:only-of-type {\n",
       "        vertical-align: middle;\n",
       "    }\n",
       "\n",
       "    .dataframe tbody tr th {\n",
       "        vertical-align: top;\n",
       "    }\n",
       "\n",
       "    .dataframe thead th {\n",
       "        text-align: right;\n",
       "    }\n",
       "</style>\n",
       "<table border=\"1\" class=\"dataframe\">\n",
       "  <thead>\n",
       "    <tr style=\"text-align: right;\">\n",
       "      <th></th>\n",
       "      <th>url</th>\n",
       "      <th>name</th>\n",
       "      <th>artist</th>\n",
       "      <th>explicit</th>\n",
       "      <th>popularity</th>\n",
       "      <th>duration_ms</th>\n",
       "      <th>danceability</th>\n",
       "      <th>energy</th>\n",
       "      <th>speechiness</th>\n",
       "      <th>acousticness</th>\n",
       "      <th>instrumentalness</th>\n",
       "      <th>liveness</th>\n",
       "      <th>valence</th>\n",
       "      <th>tempo</th>\n",
       "    </tr>\n",
       "  </thead>\n",
       "  <tbody>\n",
       "    <tr>\n",
       "      <th>0</th>\n",
       "      <td>https://open.spotify.com/track/1EzrEOXmMH3G43A...</td>\n",
       "      <td>I'm Yours</td>\n",
       "      <td>Jason Mraz</td>\n",
       "      <td>False</td>\n",
       "      <td>81</td>\n",
       "      <td>242186</td>\n",
       "      <td>0.69</td>\n",
       "      <td>0.46</td>\n",
       "      <td>0.05</td>\n",
       "      <td>0.59</td>\n",
       "      <td>0.00</td>\n",
       "      <td>0.10</td>\n",
       "      <td>0.72</td>\n",
       "      <td>150.95</td>\n",
       "    </tr>\n",
       "    <tr>\n",
       "      <th>1</th>\n",
       "      <td>https://open.spotify.com/track/1TX4h6MrIZ0K3r4...</td>\n",
       "      <td>Flor de Lis</td>\n",
       "      <td>Djavan</td>\n",
       "      <td>False</td>\n",
       "      <td>61</td>\n",
       "      <td>225266</td>\n",
       "      <td>0.55</td>\n",
       "      <td>0.50</td>\n",
       "      <td>0.05</td>\n",
       "      <td>0.22</td>\n",
       "      <td>0.00</td>\n",
       "      <td>0.06</td>\n",
       "      <td>0.78</td>\n",
       "      <td>85.79</td>\n",
       "    </tr>\n",
       "    <tr>\n",
       "      <th>2</th>\n",
       "      <td>https://open.spotify.com/track/2ukW9zOr51AYeLS...</td>\n",
       "      <td>Não Me Deixe Só</td>\n",
       "      <td>Vanessa Da Mata</td>\n",
       "      <td>False</td>\n",
       "      <td>54</td>\n",
       "      <td>189666</td>\n",
       "      <td>0.73</td>\n",
       "      <td>0.47</td>\n",
       "      <td>0.04</td>\n",
       "      <td>0.33</td>\n",
       "      <td>0.01</td>\n",
       "      <td>0.10</td>\n",
       "      <td>0.64</td>\n",
       "      <td>107.09</td>\n",
       "    </tr>\n",
       "    <tr>\n",
       "      <th>3</th>\n",
       "      <td>https://open.spotify.com/track/55h7vJchibLdUkx...</td>\n",
       "      <td>Treasure</td>\n",
       "      <td>Bruno Mars</td>\n",
       "      <td>True</td>\n",
       "      <td>75</td>\n",
       "      <td>178560</td>\n",
       "      <td>0.87</td>\n",
       "      <td>0.69</td>\n",
       "      <td>0.04</td>\n",
       "      <td>0.04</td>\n",
       "      <td>0.00</td>\n",
       "      <td>0.32</td>\n",
       "      <td>0.94</td>\n",
       "      <td>116.02</td>\n",
       "    </tr>\n",
       "    <tr>\n",
       "      <th>4</th>\n",
       "      <td>https://open.spotify.com/track/5nxNqPGJJD1hwh2...</td>\n",
       "      <td>Walk Away</td>\n",
       "      <td>Franz Ferdinand</td>\n",
       "      <td>False</td>\n",
       "      <td>51</td>\n",
       "      <td>216333</td>\n",
       "      <td>0.58</td>\n",
       "      <td>0.83</td>\n",
       "      <td>0.03</td>\n",
       "      <td>0.12</td>\n",
       "      <td>0.00</td>\n",
       "      <td>0.37</td>\n",
       "      <td>0.51</td>\n",
       "      <td>124.12</td>\n",
       "    </tr>\n",
       "  </tbody>\n",
       "</table>\n",
       "</div>"
      ],
      "text/plain": [
       "                                                 url             name           artist  explicit  popularity  duration_ms  danceability  energy  speechiness  acousticness  instrumentalness  liveness  valence  tempo\n",
       "0  https://open.spotify.com/track/1EzrEOXmMH3G43A...        I'm Yours       Jason Mraz     False          81       242186          0.69    0.46         0.05          0.59              0.00      0.10     0.72 150.95\n",
       "1  https://open.spotify.com/track/1TX4h6MrIZ0K3r4...      Flor de Lis           Djavan     False          61       225266          0.55    0.50         0.05          0.22              0.00      0.06     0.78  85.79\n",
       "2  https://open.spotify.com/track/2ukW9zOr51AYeLS...  Não Me Deixe Só  Vanessa Da Mata     False          54       189666          0.73    0.47         0.04          0.33              0.01      0.10     0.64 107.09\n",
       "3  https://open.spotify.com/track/55h7vJchibLdUkx...         Treasure       Bruno Mars      True          75       178560          0.87    0.69         0.04          0.04              0.00      0.32     0.94 116.02\n",
       "4  https://open.spotify.com/track/5nxNqPGJJD1hwh2...        Walk Away  Franz Ferdinand     False          51       216333          0.58    0.83         0.03          0.12              0.00      0.37     0.51 124.12"
      ]
     },
     "execution_count": 8,
     "metadata": {},
     "output_type": "execute_result"
    }
   ],
   "source": [
    "df_raw = pd.read_csv('./csv/Dizem que o amor atrai.csv')\n",
    "df_raw.head()"
   ]
  }
 ],
 "metadata": {
  "kernelspec": {
   "display_name": "Python 3",
   "language": "python",
   "name": "python3"
  },
  "language_info": {
   "codemirror_mode": {
    "name": "ipython",
    "version": 3
   },
   "file_extension": ".py",
   "mimetype": "text/x-python",
   "name": "python",
   "nbconvert_exporter": "python",
   "pygments_lexer": "ipython3",
   "version": "3.6.9"
  }
 },
 "nbformat": 4,
 "nbformat_minor": 4
}
